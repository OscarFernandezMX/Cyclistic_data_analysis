{
 "cells": [
  {
   "cell_type": "code",
   "execution_count": 1,
   "id": "3bd1a6a6",
   "metadata": {},
   "outputs": [],
   "source": [
    "from pyspark.sql import SparkSession"
   ]
  },
  {
   "cell_type": "markdown",
   "id": "71e7a7a0",
   "metadata": {},
   "source": [
    "We create a Spark session. To monitor, visit <http://localhost:4040/jobs/>.  \n",
    "Then, we load the data and create a temporary view to work with SQL."
   ]
  },
  {
   "cell_type": "code",
   "execution_count": 2,
   "id": "48b3b7d5",
   "metadata": {},
   "outputs": [
    {
     "name": "stderr",
     "output_type": "stream",
     "text": [
      "24/02/11 22:14:33 WARN Utils: Your hostname, DS-A90101.local resolves to a loopback address: 127.0.0.1; using 192.168.100.217 instead (on interface en0)\n",
      "24/02/11 22:14:33 WARN Utils: Set SPARK_LOCAL_IP if you need to bind to another address\n",
      "Setting default log level to \"WARN\".\n",
      "To adjust logging level use sc.setLogLevel(newLevel). For SparkR, use setLogLevel(newLevel).\n",
      "24/02/11 22:14:34 WARN NativeCodeLoader: Unable to load native-hadoop library for your platform... using builtin-java classes where applicable\n",
      "24/02/11 22:14:52 WARN GarbageCollectionMetrics: To enable non-built-in garbage collector(s) List(G1 Concurrent GC), users should configure it(them) to spark.eventLog.gcMetrics.youngGenerationGarbageCollectors or spark.eventLog.gcMetrics.oldGenerationGarbageCollectors\n",
      "                                                                                \r"
     ]
    }
   ],
   "source": [
    "# Spark session.\n",
    "spark = SparkSession.builder \\\n",
    "    .appName(\"Cyclistic cleaning data\") \\\n",
    "    .getOrCreate()\n",
    "\n",
    "# Load data.\n",
    "df = spark.read.csv(\"Data/cyclistic/2023_cyclistic_tripdata.csv\", header=True, inferSchema=True)\n",
    "\n",
    "# Create temporary view for SQL queries.\n",
    "df.createOrReplaceTempView(\"cyclistic_data\")"
   ]
  },
  {
   "cell_type": "markdown",
   "id": "1321faad",
   "metadata": {},
   "source": [
    "## Checking columns"
   ]
  },
  {
   "cell_type": "markdown",
   "id": "2e2d9443",
   "metadata": {},
   "source": [
    "### `ride_id`\n",
    "Count the `ride_id` and compare with the total rows. We can see they match, we have no repeated ids."
   ]
  },
  {
   "cell_type": "code",
   "execution_count": 3,
   "id": "b03b8282",
   "metadata": {},
   "outputs": [
    {
     "name": "stderr",
     "output_type": "stream",
     "text": [
      "24/02/11 22:14:58 WARN RowBasedKeyValueBatch: Calling spill() on RowBasedKeyValueBatch. Will not spill but return 0.\n",
      "24/02/11 22:14:58 WARN RowBasedKeyValueBatch: Calling spill() on RowBasedKeyValueBatch. Will not spill but return 0.\n",
      "24/02/11 22:14:58 WARN RowBasedKeyValueBatch: Calling spill() on RowBasedKeyValueBatch. Will not spill but return 0.\n",
      "24/02/11 22:14:58 WARN RowBasedKeyValueBatch: Calling spill() on RowBasedKeyValueBatch. Will not spill but return 0.\n",
      "24/02/11 22:14:58 WARN RowBasedKeyValueBatch: Calling spill() on RowBasedKeyValueBatch. Will not spill but return 0.\n",
      "24/02/11 22:14:58 WARN RowBasedKeyValueBatch: Calling spill() on RowBasedKeyValueBatch. Will not spill but return 0.\n",
      "24/02/11 22:14:58 WARN RowBasedKeyValueBatch: Calling spill() on RowBasedKeyValueBatch. Will not spill but return 0.\n",
      "24/02/11 22:14:58 WARN RowBasedKeyValueBatch: Calling spill() on RowBasedKeyValueBatch. Will not spill but return 0.\n",
      "24/02/11 22:15:03 WARN RowBasedKeyValueBatch: Calling spill() on RowBasedKeyValueBatch. Will not spill but return 0.\n",
      "24/02/11 22:15:03 WARN RowBasedKeyValueBatch: Calling spill() on RowBasedKeyValueBatch. Will not spill but return 0.\n",
      "24/02/11 22:15:03 WARN RowBasedKeyValueBatch: Calling spill() on RowBasedKeyValueBatch. Will not spill but return 0.\n",
      "24/02/11 22:15:03 WARN RowBasedKeyValueBatch: Calling spill() on RowBasedKeyValueBatch. Will not spill but return 0.\n",
      "24/02/11 22:15:03 WARN RowBasedKeyValueBatch: Calling spill() on RowBasedKeyValueBatch. Will not spill but return 0.\n",
      "24/02/11 22:15:03 WARN RowBasedKeyValueBatch: Calling spill() on RowBasedKeyValueBatch. Will not spill but return 0.\n",
      "24/02/11 22:15:03 WARN RowBasedKeyValueBatch: Calling spill() on RowBasedKeyValueBatch. Will not spill but return 0.\n",
      "24/02/11 22:15:03 WARN RowBasedKeyValueBatch: Calling spill() on RowBasedKeyValueBatch. Will not spill but return 0.\n",
      "                                                                                \r"
     ]
    },
    {
     "data": {
      "text/html": [
       "<div>\n",
       "<style scoped>\n",
       "    .dataframe tbody tr th:only-of-type {\n",
       "        vertical-align: middle;\n",
       "    }\n",
       "\n",
       "    .dataframe tbody tr th {\n",
       "        vertical-align: top;\n",
       "    }\n",
       "\n",
       "    .dataframe thead th {\n",
       "        text-align: right;\n",
       "    }\n",
       "</style>\n",
       "<table border=\"1\" class=\"dataframe\">\n",
       "  <thead>\n",
       "    <tr style=\"text-align: right;\">\n",
       "      <th></th>\n",
       "      <th>Rows</th>\n",
       "      <th>Unique_IDs</th>\n",
       "    </tr>\n",
       "  </thead>\n",
       "  <tbody>\n",
       "    <tr>\n",
       "      <th>0</th>\n",
       "      <td>5719877</td>\n",
       "      <td>5719877</td>\n",
       "    </tr>\n",
       "  </tbody>\n",
       "</table>\n",
       "</div>"
      ],
      "text/plain": [
       "      Rows  Unique_IDs\n",
       "0  5719877     5719877"
      ]
     },
     "execution_count": 3,
     "metadata": {},
     "output_type": "execute_result"
    }
   ],
   "source": [
    "query = \"\"\"\n",
    "SELECT\n",
    "    COUNT(*) AS Rows,\n",
    "    COUNT(DISTINCT ride_id) AS Unique_IDs\n",
    "FROM\n",
    "    cyclistic_data;\n",
    "\"\"\"\n",
    "\n",
    "spark.sql(query).toPandas()"
   ]
  },
  {
   "cell_type": "markdown",
   "id": "49a0bf77",
   "metadata": {},
   "source": [
    "### `rideable_type`\n",
    "\n",
    "We can see that there are three unique bicycle types. This columns is also clean."
   ]
  },
  {
   "cell_type": "code",
   "execution_count": 4,
   "id": "04e6aebc",
   "metadata": {},
   "outputs": [
    {
     "name": "stderr",
     "output_type": "stream",
     "text": [
      "                                                                                \r"
     ]
    },
    {
     "data": {
      "text/html": [
       "<div>\n",
       "<style scoped>\n",
       "    .dataframe tbody tr th:only-of-type {\n",
       "        vertical-align: middle;\n",
       "    }\n",
       "\n",
       "    .dataframe tbody tr th {\n",
       "        vertical-align: top;\n",
       "    }\n",
       "\n",
       "    .dataframe thead th {\n",
       "        text-align: right;\n",
       "    }\n",
       "</style>\n",
       "<table border=\"1\" class=\"dataframe\">\n",
       "  <thead>\n",
       "    <tr style=\"text-align: right;\">\n",
       "      <th></th>\n",
       "      <th>rideable_type</th>\n",
       "      <th>Rides</th>\n",
       "    </tr>\n",
       "  </thead>\n",
       "  <tbody>\n",
       "    <tr>\n",
       "      <th>0</th>\n",
       "      <td>electric_bike</td>\n",
       "      <td>2945579</td>\n",
       "    </tr>\n",
       "    <tr>\n",
       "      <th>1</th>\n",
       "      <td>classic_bike</td>\n",
       "      <td>2696011</td>\n",
       "    </tr>\n",
       "    <tr>\n",
       "      <th>2</th>\n",
       "      <td>docked_bike</td>\n",
       "      <td>78287</td>\n",
       "    </tr>\n",
       "  </tbody>\n",
       "</table>\n",
       "</div>"
      ],
      "text/plain": [
       "   rideable_type    Rides\n",
       "0  electric_bike  2945579\n",
       "1   classic_bike  2696011\n",
       "2    docked_bike    78287"
      ]
     },
     "execution_count": 4,
     "metadata": {},
     "output_type": "execute_result"
    }
   ],
   "source": [
    "query = \"\"\"\n",
    "SELECT\n",
    "    rideable_type,\n",
    "    COUNT(*) AS Rides\n",
    "FROM\n",
    "    cyclistic_data\n",
    "GROUP BY\n",
    "    rideable_type\n",
    "ORDER BY\n",
    "    Rides DESC\n",
    "\"\"\"\n",
    "\n",
    "spark.sql(query).toPandas()"
   ]
  },
  {
   "cell_type": "markdown",
   "id": "7c3db419",
   "metadata": {},
   "source": [
    "### Dates"
   ]
  },
  {
   "cell_type": "markdown",
   "id": "5a6f7e7b",
   "metadata": {},
   "source": [
    "We can see that in both columns, there are entries from the year 2022, and rides that ended in 2024. Since we are interested in data from 2023, we'll remove these entries.\n"
   ]
  },
  {
   "cell_type": "code",
   "execution_count": 5,
   "id": "3c499620",
   "metadata": {},
   "outputs": [
    {
     "name": "stderr",
     "output_type": "stream",
     "text": [
      "                                                                                \r"
     ]
    },
    {
     "data": {
      "text/html": [
       "<div>\n",
       "<style scoped>\n",
       "    .dataframe tbody tr th:only-of-type {\n",
       "        vertical-align: middle;\n",
       "    }\n",
       "\n",
       "    .dataframe tbody tr th {\n",
       "        vertical-align: top;\n",
       "    }\n",
       "\n",
       "    .dataframe thead th {\n",
       "        text-align: right;\n",
       "    }\n",
       "</style>\n",
       "<table border=\"1\" class=\"dataframe\">\n",
       "  <thead>\n",
       "    <tr style=\"text-align: right;\">\n",
       "      <th></th>\n",
       "      <th>min(started_at)</th>\n",
       "      <th>max(started_at)</th>\n",
       "      <th>min(ended_at)</th>\n",
       "      <th>max(ended_at)</th>\n",
       "    </tr>\n",
       "  </thead>\n",
       "  <tbody>\n",
       "    <tr>\n",
       "      <th>0</th>\n",
       "      <td>2022-12-31 18:01:58</td>\n",
       "      <td>2023-12-31 17:59:38</td>\n",
       "      <td>2022-12-31 18:02:41</td>\n",
       "      <td>2024-01-01 17:50:51</td>\n",
       "    </tr>\n",
       "  </tbody>\n",
       "</table>\n",
       "</div>"
      ],
      "text/plain": [
       "      min(started_at)     max(started_at)       min(ended_at)  \\\n",
       "0 2022-12-31 18:01:58 2023-12-31 17:59:38 2022-12-31 18:02:41   \n",
       "\n",
       "        max(ended_at)  \n",
       "0 2024-01-01 17:50:51  "
      ]
     },
     "execution_count": 5,
     "metadata": {},
     "output_type": "execute_result"
    }
   ],
   "source": [
    "query = \"\"\"\n",
    "SELECT\n",
    "    MIN(started_at),\n",
    "    MAX(started_at),\n",
    "    MIN(ended_at),\n",
    "    MAX(ended_at)\n",
    "FROM\n",
    "    cyclistic_data;\n",
    "\"\"\"\n",
    "\n",
    "spark.sql(query).toPandas()"
   ]
  },
  {
   "cell_type": "markdown",
   "id": "b3f793f1",
   "metadata": {},
   "source": [
    "#### Removing entries that are not from the year 2023"
   ]
  },
  {
   "cell_type": "code",
   "execution_count": 6,
   "id": "44158f9c",
   "metadata": {},
   "outputs": [],
   "source": [
    "query = \"\"\"\n",
    "SELECT\n",
    "    *\n",
    "FROM\n",
    "    cyclistic_data\n",
    "WHERE\n",
    "    (started_at >= \"2023-01-01 00:00:00\" AND\n",
    "    started_at <= \"2023-12-31 23:59:59\") AND\n",
    "    (ended_at >= \"2023-01-01 00:00:00\" AND\n",
    "    ended_at <= \"2023-12-31 23:59:59\")\n",
    "ORDER BY\n",
    "    started_at ASC;\n",
    "\"\"\"\n",
    "\n",
    "df2 = spark.sql(query)\n",
    "df2.createOrReplaceTempView(\"cyclistic_data_2\")"
   ]
  },
  {
   "cell_type": "markdown",
   "id": "f1ade3be",
   "metadata": {},
   "source": [
    "After removing those entries, our table has 5,718,838 rows."
   ]
  },
  {
   "cell_type": "code",
   "execution_count": 7,
   "id": "a76f9e1f",
   "metadata": {},
   "outputs": [
    {
     "name": "stderr",
     "output_type": "stream",
     "text": [
      "                                                                                \r"
     ]
    },
    {
     "data": {
      "text/html": [
       "<div>\n",
       "<style scoped>\n",
       "    .dataframe tbody tr th:only-of-type {\n",
       "        vertical-align: middle;\n",
       "    }\n",
       "\n",
       "    .dataframe tbody tr th {\n",
       "        vertical-align: top;\n",
       "    }\n",
       "\n",
       "    .dataframe thead th {\n",
       "        text-align: right;\n",
       "    }\n",
       "</style>\n",
       "<table border=\"1\" class=\"dataframe\">\n",
       "  <thead>\n",
       "    <tr style=\"text-align: right;\">\n",
       "      <th></th>\n",
       "      <th>Rows</th>\n",
       "    </tr>\n",
       "  </thead>\n",
       "  <tbody>\n",
       "    <tr>\n",
       "      <th>0</th>\n",
       "      <td>5718838</td>\n",
       "    </tr>\n",
       "  </tbody>\n",
       "</table>\n",
       "</div>"
      ],
      "text/plain": [
       "      Rows\n",
       "0  5718838"
      ]
     },
     "execution_count": 7,
     "metadata": {},
     "output_type": "execute_result"
    }
   ],
   "source": [
    "query = \"\"\"\n",
    "SELECT\n",
    "    COUNT(*) AS Rows\n",
    "FROM\n",
    "    cyclistic_data_2\n",
    "\"\"\"\n",
    "\n",
    "spark.sql(query).toPandas()"
   ]
  },
  {
   "cell_type": "markdown",
   "id": "1b7b9a6d",
   "metadata": {},
   "source": [
    "### Station ids and names"
   ]
  },
  {
   "cell_type": "markdown",
   "id": "fb77294f",
   "metadata": {},
   "source": [
    "We found two issues:\n",
    "- There is no information about some stations.\n",
    "- The naming of the stations looks inconsistent in some cases."
   ]
  },
  {
   "cell_type": "markdown",
   "id": "4d798eec",
   "metadata": {},
   "source": [
    "#### Removing NAs\n",
    "\n",
    "We can see that there are rides where we don't have the start information (id, name, latitude, and longitude).  \n",
    "For simplicity in the analysis, we assume that the data is not enough to infer more information about these stations with the available data (i.e. we cannot infer with latitud and longitude coordinates or station id the name of a missing station)."
   ]
  },
  {
   "cell_type": "markdown",
   "id": "48de954b",
   "metadata": {},
   "source": [
    "This is the data that we want to remove."
   ]
  },
  {
   "cell_type": "code",
   "execution_count": 8,
   "id": "b97db454",
   "metadata": {},
   "outputs": [],
   "source": [
    "query = \"\"\"\n",
    "SELECT\n",
    "    *\n",
    "FROM\n",
    "    cyclistic_data_2\n",
    "WHERE\n",
    "    start_station_name = \"NA\" OR\n",
    "    start_station_id = \"NA\" OR\n",
    "    start_lat = \"NA\" OR\n",
    "    start_lng = \"NA\" OR\n",
    "    end_station_name = \"NA\" OR\n",
    "    end_station_id = \"NA\" OR\n",
    "    end_lat = \"NA\" OR\n",
    "    end_lng = \"NA\"\n",
    "\"\"\"\n",
    "\n",
    "aux_df = spark.sql(query)\n",
    "aux_df.createOrReplaceTempView(\"aux\")"
   ]
  },
  {
   "cell_type": "markdown",
   "id": "80d01883",
   "metadata": {},
   "source": [
    "Now we remove it from the table and save it into a new one."
   ]
  },
  {
   "cell_type": "code",
   "execution_count": 9,
   "id": "e26c7297",
   "metadata": {},
   "outputs": [],
   "source": [
    "query = \"\"\"\n",
    "SELECT\n",
    "    *\n",
    "FROM\n",
    "    cyclistic_data_2\n",
    "WHERE NOT EXISTS (\n",
    "    SELECT 1\n",
    "    FROM aux\n",
    "    WHERE cyclistic_data_2.ride_id = aux.ride_id\n",
    ");\n",
    "\"\"\"\n",
    "\n",
    "df3 = spark.sql(query)\n",
    "df3.createOrReplaceTempView(\"cyclistic_data_3\")"
   ]
  },
  {
   "cell_type": "markdown",
   "id": "b47fbc29",
   "metadata": {},
   "source": [
    "After removing NA rows, 4,330,969 is the new size of our table."
   ]
  },
  {
   "cell_type": "code",
   "execution_count": 10,
   "id": "827c22fd",
   "metadata": {},
   "outputs": [
    {
     "name": "stderr",
     "output_type": "stream",
     "text": [
      "                                                                                \r"
     ]
    },
    {
     "data": {
      "text/html": [
       "<div>\n",
       "<style scoped>\n",
       "    .dataframe tbody tr th:only-of-type {\n",
       "        vertical-align: middle;\n",
       "    }\n",
       "\n",
       "    .dataframe tbody tr th {\n",
       "        vertical-align: top;\n",
       "    }\n",
       "\n",
       "    .dataframe thead th {\n",
       "        text-align: right;\n",
       "    }\n",
       "</style>\n",
       "<table border=\"1\" class=\"dataframe\">\n",
       "  <thead>\n",
       "    <tr style=\"text-align: right;\">\n",
       "      <th></th>\n",
       "      <th>Rows</th>\n",
       "    </tr>\n",
       "  </thead>\n",
       "  <tbody>\n",
       "    <tr>\n",
       "      <th>0</th>\n",
       "      <td>4330969</td>\n",
       "    </tr>\n",
       "  </tbody>\n",
       "</table>\n",
       "</div>"
      ],
      "text/plain": [
       "      Rows\n",
       "0  4330969"
      ]
     },
     "execution_count": 10,
     "metadata": {},
     "output_type": "execute_result"
    }
   ],
   "source": [
    "query = \"\"\"\n",
    "SELECT\n",
    "    COUNT(*) AS Rows\n",
    "FROM\n",
    "    cyclistic_data_3\n",
    "\"\"\"\n",
    "\n",
    "spark.sql(query).toPandas()"
   ]
  },
  {
   "cell_type": "markdown",
   "id": "9c07b980",
   "metadata": {},
   "source": [
    "#### Character length\n",
    "\n",
    "It seems that the name is the same as the id for the start station. We will assume that this data is correct and keep it in our table."
   ]
  },
  {
   "cell_type": "code",
   "execution_count": 11,
   "id": "928fbdce",
   "metadata": {},
   "outputs": [
    {
     "name": "stderr",
     "output_type": "stream",
     "text": [
      "24/02/11 22:16:30 WARN RowBasedKeyValueBatch: Calling spill() on RowBasedKeyValueBatch. Will not spill but return 0.\n",
      "24/02/11 22:16:30 WARN RowBasedKeyValueBatch: Calling spill() on RowBasedKeyValueBatch. Will not spill but return 0.\n",
      "24/02/11 22:16:30 WARN RowBasedKeyValueBatch: Calling spill() on RowBasedKeyValueBatch. Will not spill but return 0.\n",
      "24/02/11 22:16:30 WARN RowBasedKeyValueBatch: Calling spill() on RowBasedKeyValueBatch. Will not spill but return 0.\n",
      "24/02/11 22:16:30 WARN RowBasedKeyValueBatch: Calling spill() on RowBasedKeyValueBatch. Will not spill but return 0.\n",
      "24/02/11 22:16:30 WARN RowBasedKeyValueBatch: Calling spill() on RowBasedKeyValueBatch. Will not spill but return 0.\n",
      "24/02/11 22:16:30 WARN RowBasedKeyValueBatch: Calling spill() on RowBasedKeyValueBatch. Will not spill but return 0.\n",
      "24/02/11 22:16:30 WARN RowBasedKeyValueBatch: Calling spill() on RowBasedKeyValueBatch. Will not spill but return 0.\n",
      "24/02/11 22:16:31 WARN RowBasedKeyValueBatch: Calling spill() on RowBasedKeyValueBatch. Will not spill but return 0.\n",
      "24/02/11 22:16:31 WARN RowBasedKeyValueBatch: Calling spill() on RowBasedKeyValueBatch. Will not spill but return 0.\n",
      "24/02/11 22:16:31 WARN RowBasedKeyValueBatch: Calling spill() on RowBasedKeyValueBatch. Will not spill but return 0.\n",
      "24/02/11 22:16:31 WARN RowBasedKeyValueBatch: Calling spill() on RowBasedKeyValueBatch. Will not spill but return 0.\n",
      "24/02/11 22:16:31 WARN RowBasedKeyValueBatch: Calling spill() on RowBasedKeyValueBatch. Will not spill but return 0.\n",
      "                                                                                \r"
     ]
    },
    {
     "data": {
      "text/html": [
       "<div>\n",
       "<style scoped>\n",
       "    .dataframe tbody tr th:only-of-type {\n",
       "        vertical-align: middle;\n",
       "    }\n",
       "\n",
       "    .dataframe tbody tr th {\n",
       "        vertical-align: top;\n",
       "    }\n",
       "\n",
       "    .dataframe thead th {\n",
       "        text-align: right;\n",
       "    }\n",
       "</style>\n",
       "<table border=\"1\" class=\"dataframe\">\n",
       "  <thead>\n",
       "    <tr style=\"text-align: right;\">\n",
       "      <th></th>\n",
       "      <th>start_station_name</th>\n",
       "      <th>same_name_and_id</th>\n",
       "    </tr>\n",
       "  </thead>\n",
       "  <tbody>\n",
       "    <tr>\n",
       "      <th>0</th>\n",
       "      <td>OH Charging Stx - Test</td>\n",
       "      <td>13</td>\n",
       "    </tr>\n",
       "    <tr>\n",
       "      <th>1</th>\n",
       "      <td>410</td>\n",
       "      <td>3</td>\n",
       "    </tr>\n",
       "  </tbody>\n",
       "</table>\n",
       "</div>"
      ],
      "text/plain": [
       "       start_station_name  same_name_and_id\n",
       "0  OH Charging Stx - Test                13\n",
       "1                     410                 3"
      ]
     },
     "execution_count": 11,
     "metadata": {},
     "output_type": "execute_result"
    }
   ],
   "source": [
    "query = \"\"\"\n",
    "SELECT\n",
    "    start_station_name,\n",
    "    SUM(CASE\n",
    "        WHEN start_station_name = start_station_id THEN 1\n",
    "        ELSE 0\n",
    "    END) AS same_name_and_id\n",
    "FROM\n",
    "    cyclistic_data_3\n",
    "GROUP BY\n",
    "    start_station_name\n",
    "HAVING\n",
    "    same_name_and_id > 0\n",
    "LIMIT\n",
    "    10;\n",
    "\"\"\"\n",
    "\n",
    "spark.sql(query).toPandas()"
   ]
  },
  {
   "cell_type": "markdown",
   "id": "33c2c8fc",
   "metadata": {},
   "source": [
    "Although there are long name stations, they seem to be valid. Therefore, we'll keep them in our data."
   ]
  },
  {
   "cell_type": "code",
   "execution_count": 12,
   "id": "0a3d408b",
   "metadata": {},
   "outputs": [
    {
     "name": "stderr",
     "output_type": "stream",
     "text": [
      "24/02/11 22:16:51 WARN RowBasedKeyValueBatch: Calling spill() on RowBasedKeyValueBatch. Will not spill but return 0.\n",
      "24/02/11 22:16:51 WARN RowBasedKeyValueBatch: Calling spill() on RowBasedKeyValueBatch. Will not spill but return 0.\n",
      "24/02/11 22:16:51 WARN RowBasedKeyValueBatch: Calling spill() on RowBasedKeyValueBatch. Will not spill but return 0.\n",
      "24/02/11 22:16:51 WARN RowBasedKeyValueBatch: Calling spill() on RowBasedKeyValueBatch. Will not spill but return 0.\n",
      "24/02/11 22:16:51 WARN RowBasedKeyValueBatch: Calling spill() on RowBasedKeyValueBatch. Will not spill but return 0.\n",
      "24/02/11 22:16:51 WARN RowBasedKeyValueBatch: Calling spill() on RowBasedKeyValueBatch. Will not spill but return 0.\n",
      "24/02/11 22:16:51 WARN RowBasedKeyValueBatch: Calling spill() on RowBasedKeyValueBatch. Will not spill but return 0.\n",
      "24/02/11 22:16:51 WARN RowBasedKeyValueBatch: Calling spill() on RowBasedKeyValueBatch. Will not spill but return 0.\n",
      "                                                                                \r"
     ]
    },
    {
     "data": {
      "text/html": [
       "<div>\n",
       "<style scoped>\n",
       "    .dataframe tbody tr th:only-of-type {\n",
       "        vertical-align: middle;\n",
       "    }\n",
       "\n",
       "    .dataframe tbody tr th {\n",
       "        vertical-align: top;\n",
       "    }\n",
       "\n",
       "    .dataframe thead th {\n",
       "        text-align: right;\n",
       "    }\n",
       "</style>\n",
       "<table border=\"1\" class=\"dataframe\">\n",
       "  <thead>\n",
       "    <tr style=\"text-align: right;\">\n",
       "      <th></th>\n",
       "      <th>start_station_name</th>\n",
       "      <th>length</th>\n",
       "    </tr>\n",
       "  </thead>\n",
       "  <tbody>\n",
       "    <tr>\n",
       "      <th>0</th>\n",
       "      <td>Public Rack - Penn Elementary School / KIPP As...</td>\n",
       "      <td>64</td>\n",
       "    </tr>\n",
       "    <tr>\n",
       "      <th>1</th>\n",
       "      <td>Public Rack - California Ave &amp; Touhy Ave - mid...</td>\n",
       "      <td>51</td>\n",
       "    </tr>\n",
       "    <tr>\n",
       "      <th>2</th>\n",
       "      <td>Public Rack - Brighton Park Branch Chicago Lib...</td>\n",
       "      <td>50</td>\n",
       "    </tr>\n",
       "    <tr>\n",
       "      <th>3</th>\n",
       "      <td>Public Rack - Austin Branch Chicago Public Lib...</td>\n",
       "      <td>50</td>\n",
       "    </tr>\n",
       "    <tr>\n",
       "      <th>4</th>\n",
       "      <td>Public Rack - Cicero Ave &amp; Cortland St - midblock</td>\n",
       "      <td>49</td>\n",
       "    </tr>\n",
       "    <tr>\n",
       "      <th>5</th>\n",
       "      <td>Public Rack - Cicero Ave &amp; Le Moyne St - midblock</td>\n",
       "      <td>49</td>\n",
       "    </tr>\n",
       "    <tr>\n",
       "      <th>6</th>\n",
       "      <td>Woodlawn &amp; 103rd - Olive Harvey Vaccination Site</td>\n",
       "      <td>48</td>\n",
       "    </tr>\n",
       "    <tr>\n",
       "      <th>7</th>\n",
       "      <td>Public Rack - The Montessori School of Englewood</td>\n",
       "      <td>48</td>\n",
       "    </tr>\n",
       "    <tr>\n",
       "      <th>8</th>\n",
       "      <td>Public Rack - Sacramento Blvd &amp; Washington Blvd</td>\n",
       "      <td>47</td>\n",
       "    </tr>\n",
       "    <tr>\n",
       "      <th>9</th>\n",
       "      <td>Public Rack - Jonathan Y Scammon Public School</td>\n",
       "      <td>46</td>\n",
       "    </tr>\n",
       "  </tbody>\n",
       "</table>\n",
       "</div>"
      ],
      "text/plain": [
       "                                  start_station_name  length\n",
       "0  Public Rack - Penn Elementary School / KIPP As...      64\n",
       "1  Public Rack - California Ave & Touhy Ave - mid...      51\n",
       "2  Public Rack - Brighton Park Branch Chicago Lib...      50\n",
       "3  Public Rack - Austin Branch Chicago Public Lib...      50\n",
       "4  Public Rack - Cicero Ave & Cortland St - midblock      49\n",
       "5  Public Rack - Cicero Ave & Le Moyne St - midblock      49\n",
       "6   Woodlawn & 103rd - Olive Harvey Vaccination Site      48\n",
       "7   Public Rack - The Montessori School of Englewood      48\n",
       "8    Public Rack - Sacramento Blvd & Washington Blvd      47\n",
       "9     Public Rack - Jonathan Y Scammon Public School      46"
      ]
     },
     "execution_count": 12,
     "metadata": {},
     "output_type": "execute_result"
    }
   ],
   "source": [
    "query = \"\"\"\n",
    "SELECT\n",
    "    start_station_name,\n",
    "    LENGTH(start_station_name) AS length\n",
    "FROM\n",
    "    cyclistic_data_3\n",
    "GROUP BY\n",
    "    start_station_name\n",
    "ORDER BY\n",
    "    length DESC\n",
    "LIMIT\n",
    "    10;\n",
    "\"\"\"\n",
    "\n",
    "spark.sql(query).toPandas()"
   ]
  },
  {
   "cell_type": "code",
   "execution_count": 13,
   "id": "12d7e7a8",
   "metadata": {},
   "outputs": [
    {
     "name": "stderr",
     "output_type": "stream",
     "text": [
      "24/02/11 22:17:10 WARN RowBasedKeyValueBatch: Calling spill() on RowBasedKeyValueBatch. Will not spill but return 0.\n",
      "24/02/11 22:17:10 WARN RowBasedKeyValueBatch: Calling spill() on RowBasedKeyValueBatch. Will not spill but return 0.\n",
      "24/02/11 22:17:10 WARN RowBasedKeyValueBatch: Calling spill() on RowBasedKeyValueBatch. Will not spill but return 0.\n",
      "24/02/11 22:17:10 WARN RowBasedKeyValueBatch: Calling spill() on RowBasedKeyValueBatch. Will not spill but return 0.\n",
      "24/02/11 22:17:10 WARN RowBasedKeyValueBatch: Calling spill() on RowBasedKeyValueBatch. Will not spill but return 0.\n",
      "24/02/11 22:17:10 WARN RowBasedKeyValueBatch: Calling spill() on RowBasedKeyValueBatch. Will not spill but return 0.\n",
      "24/02/11 22:17:10 WARN RowBasedKeyValueBatch: Calling spill() on RowBasedKeyValueBatch. Will not spill but return 0.\n",
      "24/02/11 22:17:10 WARN RowBasedKeyValueBatch: Calling spill() on RowBasedKeyValueBatch. Will not spill but return 0.\n",
      "                                                                                \r"
     ]
    },
    {
     "data": {
      "text/html": [
       "<div>\n",
       "<style scoped>\n",
       "    .dataframe tbody tr th:only-of-type {\n",
       "        vertical-align: middle;\n",
       "    }\n",
       "\n",
       "    .dataframe tbody tr th {\n",
       "        vertical-align: top;\n",
       "    }\n",
       "\n",
       "    .dataframe thead th {\n",
       "        text-align: right;\n",
       "    }\n",
       "</style>\n",
       "<table border=\"1\" class=\"dataframe\">\n",
       "  <thead>\n",
       "    <tr style=\"text-align: right;\">\n",
       "      <th></th>\n",
       "      <th>start_station_id</th>\n",
       "      <th>length</th>\n",
       "    </tr>\n",
       "  </thead>\n",
       "  <tbody>\n",
       "    <tr>\n",
       "      <th>0</th>\n",
       "      <td>Hubbard Bike-checking (LBS-WH-TEST)</td>\n",
       "      <td>35</td>\n",
       "    </tr>\n",
       "    <tr>\n",
       "      <th>1</th>\n",
       "      <td>OH Charging Stx - Test</td>\n",
       "      <td>22</td>\n",
       "    </tr>\n",
       "    <tr>\n",
       "      <th>2</th>\n",
       "      <td>6.21.23 OLD HASTINGS</td>\n",
       "      <td>20</td>\n",
       "    </tr>\n",
       "    <tr>\n",
       "      <th>3</th>\n",
       "      <td>chargingstx06</td>\n",
       "      <td>13</td>\n",
       "    </tr>\n",
       "    <tr>\n",
       "      <th>4</th>\n",
       "      <td>chargingstx07</td>\n",
       "      <td>13</td>\n",
       "    </tr>\n",
       "    <tr>\n",
       "      <th>5</th>\n",
       "      <td>TA1308000046</td>\n",
       "      <td>12</td>\n",
       "    </tr>\n",
       "    <tr>\n",
       "      <th>6</th>\n",
       "      <td>KA1504000162</td>\n",
       "      <td>12</td>\n",
       "    </tr>\n",
       "    <tr>\n",
       "      <th>7</th>\n",
       "      <td>TA1307000134</td>\n",
       "      <td>12</td>\n",
       "    </tr>\n",
       "    <tr>\n",
       "      <th>8</th>\n",
       "      <td>TA1305000022</td>\n",
       "      <td>12</td>\n",
       "    </tr>\n",
       "    <tr>\n",
       "      <th>9</th>\n",
       "      <td>KA1504000103</td>\n",
       "      <td>12</td>\n",
       "    </tr>\n",
       "  </tbody>\n",
       "</table>\n",
       "</div>"
      ],
      "text/plain": [
       "                      start_station_id  length\n",
       "0  Hubbard Bike-checking (LBS-WH-TEST)      35\n",
       "1               OH Charging Stx - Test      22\n",
       "2                 6.21.23 OLD HASTINGS      20\n",
       "3                        chargingstx06      13\n",
       "4                        chargingstx07      13\n",
       "5                         TA1308000046      12\n",
       "6                         KA1504000162      12\n",
       "7                         TA1307000134      12\n",
       "8                         TA1305000022      12\n",
       "9                         KA1504000103      12"
      ]
     },
     "execution_count": 13,
     "metadata": {},
     "output_type": "execute_result"
    }
   ],
   "source": [
    "query = \"\"\"\n",
    "SELECT\n",
    "    start_station_id,\n",
    "    LENGTH(start_station_id) AS length\n",
    "FROM\n",
    "    cyclistic_data_3\n",
    "GROUP BY\n",
    "    start_station_id\n",
    "ORDER BY\n",
    "    length DESC\n",
    "LIMIT\n",
    "    10;\n",
    "\"\"\"\n",
    "\n",
    "spark.sql(query).toPandas()"
   ]
  },
  {
   "cell_type": "markdown",
   "id": "6a1c6dd4",
   "metadata": {},
   "source": [
    "The same happens with end station information. We also keep this data."
   ]
  },
  {
   "cell_type": "code",
   "execution_count": 14,
   "id": "a50d06f3",
   "metadata": {},
   "outputs": [
    {
     "name": "stderr",
     "output_type": "stream",
     "text": [
      "24/02/11 22:17:31 WARN RowBasedKeyValueBatch: Calling spill() on RowBasedKeyValueBatch. Will not spill but return 0.\n",
      "24/02/11 22:17:31 WARN RowBasedKeyValueBatch: Calling spill() on RowBasedKeyValueBatch. Will not spill but return 0.\n",
      "24/02/11 22:17:31 WARN RowBasedKeyValueBatch: Calling spill() on RowBasedKeyValueBatch. Will not spill but return 0.\n",
      "24/02/11 22:17:31 WARN RowBasedKeyValueBatch: Calling spill() on RowBasedKeyValueBatch. Will not spill but return 0.\n",
      "24/02/11 22:17:31 WARN RowBasedKeyValueBatch: Calling spill() on RowBasedKeyValueBatch. Will not spill but return 0.\n",
      "24/02/11 22:17:31 WARN RowBasedKeyValueBatch: Calling spill() on RowBasedKeyValueBatch. Will not spill but return 0.\n",
      "24/02/11 22:17:31 WARN RowBasedKeyValueBatch: Calling spill() on RowBasedKeyValueBatch. Will not spill but return 0.\n",
      "24/02/11 22:17:31 WARN RowBasedKeyValueBatch: Calling spill() on RowBasedKeyValueBatch. Will not spill but return 0.\n",
      "24/02/11 22:17:31 WARN RowBasedKeyValueBatch: Calling spill() on RowBasedKeyValueBatch. Will not spill but return 0.\n",
      "24/02/11 22:17:31 WARN RowBasedKeyValueBatch: Calling spill() on RowBasedKeyValueBatch. Will not spill but return 0.\n",
      "24/02/11 22:17:31 WARN RowBasedKeyValueBatch: Calling spill() on RowBasedKeyValueBatch. Will not spill but return 0.\n",
      "24/02/11 22:17:32 WARN RowBasedKeyValueBatch: Calling spill() on RowBasedKeyValueBatch. Will not spill but return 0.\n",
      "                                                                                \r"
     ]
    },
    {
     "data": {
      "text/html": [
       "<div>\n",
       "<style scoped>\n",
       "    .dataframe tbody tr th:only-of-type {\n",
       "        vertical-align: middle;\n",
       "    }\n",
       "\n",
       "    .dataframe tbody tr th {\n",
       "        vertical-align: top;\n",
       "    }\n",
       "\n",
       "    .dataframe thead th {\n",
       "        text-align: right;\n",
       "    }\n",
       "</style>\n",
       "<table border=\"1\" class=\"dataframe\">\n",
       "  <thead>\n",
       "    <tr style=\"text-align: right;\">\n",
       "      <th></th>\n",
       "      <th>end_station_name</th>\n",
       "      <th>same_name_and_id</th>\n",
       "    </tr>\n",
       "  </thead>\n",
       "  <tbody>\n",
       "    <tr>\n",
       "      <th>0</th>\n",
       "      <td>410</td>\n",
       "      <td>1</td>\n",
       "    </tr>\n",
       "    <tr>\n",
       "      <th>1</th>\n",
       "      <td>OH Charging Stx - Test</td>\n",
       "      <td>13</td>\n",
       "    </tr>\n",
       "  </tbody>\n",
       "</table>\n",
       "</div>"
      ],
      "text/plain": [
       "         end_station_name  same_name_and_id\n",
       "0                     410                 1\n",
       "1  OH Charging Stx - Test                13"
      ]
     },
     "execution_count": 14,
     "metadata": {},
     "output_type": "execute_result"
    }
   ],
   "source": [
    "query = \"\"\"\n",
    "SELECT\n",
    "    end_station_name,\n",
    "    SUM(CASE\n",
    "        WHEN end_station_name = end_station_id THEN 1\n",
    "        ELSE 0\n",
    "    END) AS same_name_and_id\n",
    "FROM\n",
    "    cyclistic_data_3\n",
    "GROUP BY\n",
    "    end_station_name\n",
    "HAVING\n",
    "    same_name_and_id > 0\n",
    "LIMIT\n",
    "    10;\n",
    "\"\"\"\n",
    "\n",
    "spark.sql(query).toPandas()"
   ]
  },
  {
   "cell_type": "code",
   "execution_count": 15,
   "id": "a1f9b69a",
   "metadata": {},
   "outputs": [
    {
     "name": "stderr",
     "output_type": "stream",
     "text": [
      "24/02/11 22:17:54 WARN RowBasedKeyValueBatch: Calling spill() on RowBasedKeyValueBatch. Will not spill but return 0.\n",
      "24/02/11 22:17:54 WARN RowBasedKeyValueBatch: Calling spill() on RowBasedKeyValueBatch. Will not spill but return 0.\n",
      "24/02/11 22:17:54 WARN RowBasedKeyValueBatch: Calling spill() on RowBasedKeyValueBatch. Will not spill but return 0.\n",
      "24/02/11 22:17:54 WARN RowBasedKeyValueBatch: Calling spill() on RowBasedKeyValueBatch. Will not spill but return 0.\n",
      "24/02/11 22:17:54 WARN RowBasedKeyValueBatch: Calling spill() on RowBasedKeyValueBatch. Will not spill but return 0.\n",
      "24/02/11 22:17:54 WARN RowBasedKeyValueBatch: Calling spill() on RowBasedKeyValueBatch. Will not spill but return 0.\n",
      "24/02/11 22:17:54 WARN RowBasedKeyValueBatch: Calling spill() on RowBasedKeyValueBatch. Will not spill but return 0.\n",
      "24/02/11 22:17:54 WARN RowBasedKeyValueBatch: Calling spill() on RowBasedKeyValueBatch. Will not spill but return 0.\n",
      "                                                                                \r"
     ]
    },
    {
     "data": {
      "text/html": [
       "<div>\n",
       "<style scoped>\n",
       "    .dataframe tbody tr th:only-of-type {\n",
       "        vertical-align: middle;\n",
       "    }\n",
       "\n",
       "    .dataframe tbody tr th {\n",
       "        vertical-align: top;\n",
       "    }\n",
       "\n",
       "    .dataframe thead th {\n",
       "        text-align: right;\n",
       "    }\n",
       "</style>\n",
       "<table border=\"1\" class=\"dataframe\">\n",
       "  <thead>\n",
       "    <tr style=\"text-align: right;\">\n",
       "      <th></th>\n",
       "      <th>end_station_name</th>\n",
       "      <th>length</th>\n",
       "    </tr>\n",
       "  </thead>\n",
       "  <tbody>\n",
       "    <tr>\n",
       "      <th>0</th>\n",
       "      <td>Public Rack - Penn Elementary School / KIPP As...</td>\n",
       "      <td>64</td>\n",
       "    </tr>\n",
       "    <tr>\n",
       "      <th>1</th>\n",
       "      <td>Public Rack - California Ave &amp; Touhy Ave - mid...</td>\n",
       "      <td>51</td>\n",
       "    </tr>\n",
       "    <tr>\n",
       "      <th>2</th>\n",
       "      <td>Public Rack - Brighton Park Branch Chicago Lib...</td>\n",
       "      <td>50</td>\n",
       "    </tr>\n",
       "    <tr>\n",
       "      <th>3</th>\n",
       "      <td>Public Rack - Austin Branch Chicago Public Lib...</td>\n",
       "      <td>50</td>\n",
       "    </tr>\n",
       "    <tr>\n",
       "      <th>4</th>\n",
       "      <td>Public Rack - Cicero Ave &amp; Cortland St - midblock</td>\n",
       "      <td>49</td>\n",
       "    </tr>\n",
       "    <tr>\n",
       "      <th>5</th>\n",
       "      <td>Public Rack - Cicero Ave &amp; Le Moyne St - midblock</td>\n",
       "      <td>49</td>\n",
       "    </tr>\n",
       "    <tr>\n",
       "      <th>6</th>\n",
       "      <td>Woodlawn &amp; 103rd - Olive Harvey Vaccination Site</td>\n",
       "      <td>48</td>\n",
       "    </tr>\n",
       "    <tr>\n",
       "      <th>7</th>\n",
       "      <td>Public Rack - The Montessori School of Englewood</td>\n",
       "      <td>48</td>\n",
       "    </tr>\n",
       "    <tr>\n",
       "      <th>8</th>\n",
       "      <td>Public Rack - Sacramento Blvd &amp; Washington Blvd</td>\n",
       "      <td>47</td>\n",
       "    </tr>\n",
       "    <tr>\n",
       "      <th>9</th>\n",
       "      <td>Public Rack - Jonathan Y Scammon Public School</td>\n",
       "      <td>46</td>\n",
       "    </tr>\n",
       "  </tbody>\n",
       "</table>\n",
       "</div>"
      ],
      "text/plain": [
       "                                    end_station_name  length\n",
       "0  Public Rack - Penn Elementary School / KIPP As...      64\n",
       "1  Public Rack - California Ave & Touhy Ave - mid...      51\n",
       "2  Public Rack - Brighton Park Branch Chicago Lib...      50\n",
       "3  Public Rack - Austin Branch Chicago Public Lib...      50\n",
       "4  Public Rack - Cicero Ave & Cortland St - midblock      49\n",
       "5  Public Rack - Cicero Ave & Le Moyne St - midblock      49\n",
       "6   Woodlawn & 103rd - Olive Harvey Vaccination Site      48\n",
       "7   Public Rack - The Montessori School of Englewood      48\n",
       "8    Public Rack - Sacramento Blvd & Washington Blvd      47\n",
       "9     Public Rack - Jonathan Y Scammon Public School      46"
      ]
     },
     "execution_count": 15,
     "metadata": {},
     "output_type": "execute_result"
    }
   ],
   "source": [
    "query = \"\"\"\n",
    "SELECT\n",
    "    end_station_name,\n",
    "    LENGTH(end_station_name) AS length\n",
    "FROM\n",
    "    cyclistic_data_3\n",
    "GROUP BY\n",
    "    end_station_name\n",
    "ORDER BY\n",
    "    length DESC\n",
    "LIMIT\n",
    "    10;\n",
    "\"\"\"\n",
    "\n",
    "spark.sql(query).toPandas()"
   ]
  },
  {
   "cell_type": "code",
   "execution_count": 16,
   "id": "5ccd4817",
   "metadata": {},
   "outputs": [
    {
     "name": "stderr",
     "output_type": "stream",
     "text": [
      "24/02/11 22:18:19 WARN RowBasedKeyValueBatch: Calling spill() on RowBasedKeyValueBatch. Will not spill but return 0.\n",
      "24/02/11 22:18:19 WARN RowBasedKeyValueBatch: Calling spill() on RowBasedKeyValueBatch. Will not spill but return 0.\n",
      "24/02/11 22:18:19 WARN RowBasedKeyValueBatch: Calling spill() on RowBasedKeyValueBatch. Will not spill but return 0.\n",
      "24/02/11 22:18:19 WARN RowBasedKeyValueBatch: Calling spill() on RowBasedKeyValueBatch. Will not spill but return 0.\n",
      "24/02/11 22:18:19 WARN RowBasedKeyValueBatch: Calling spill() on RowBasedKeyValueBatch. Will not spill but return 0.\n",
      "24/02/11 22:18:19 WARN RowBasedKeyValueBatch: Calling spill() on RowBasedKeyValueBatch. Will not spill but return 0.\n",
      "24/02/11 22:18:19 WARN RowBasedKeyValueBatch: Calling spill() on RowBasedKeyValueBatch. Will not spill but return 0.\n",
      "24/02/11 22:18:19 WARN RowBasedKeyValueBatch: Calling spill() on RowBasedKeyValueBatch. Will not spill but return 0.\n",
      "                                                                                \r"
     ]
    },
    {
     "data": {
      "text/html": [
       "<div>\n",
       "<style scoped>\n",
       "    .dataframe tbody tr th:only-of-type {\n",
       "        vertical-align: middle;\n",
       "    }\n",
       "\n",
       "    .dataframe tbody tr th {\n",
       "        vertical-align: top;\n",
       "    }\n",
       "\n",
       "    .dataframe thead th {\n",
       "        text-align: right;\n",
       "    }\n",
       "</style>\n",
       "<table border=\"1\" class=\"dataframe\">\n",
       "  <thead>\n",
       "    <tr style=\"text-align: right;\">\n",
       "      <th></th>\n",
       "      <th>end_station_id</th>\n",
       "      <th>length</th>\n",
       "    </tr>\n",
       "  </thead>\n",
       "  <tbody>\n",
       "    <tr>\n",
       "      <th>0</th>\n",
       "      <td>DIVVY CASSETTE REPAIR MOBILE STATION</td>\n",
       "      <td>36</td>\n",
       "    </tr>\n",
       "    <tr>\n",
       "      <th>1</th>\n",
       "      <td>Hubbard Bike-checking (LBS-WH-TEST)</td>\n",
       "      <td>35</td>\n",
       "    </tr>\n",
       "    <tr>\n",
       "      <th>2</th>\n",
       "      <td>2059 Hastings Warehouse Station</td>\n",
       "      <td>31</td>\n",
       "    </tr>\n",
       "    <tr>\n",
       "      <th>3</th>\n",
       "      <td>OH Charging Stx - Test</td>\n",
       "      <td>22</td>\n",
       "    </tr>\n",
       "    <tr>\n",
       "      <th>4</th>\n",
       "      <td>6.21.23 OLD HASTINGS</td>\n",
       "      <td>20</td>\n",
       "    </tr>\n",
       "    <tr>\n",
       "      <th>5</th>\n",
       "      <td>chargingstx06</td>\n",
       "      <td>13</td>\n",
       "    </tr>\n",
       "    <tr>\n",
       "      <th>6</th>\n",
       "      <td>chargingstx07</td>\n",
       "      <td>13</td>\n",
       "    </tr>\n",
       "    <tr>\n",
       "      <th>7</th>\n",
       "      <td>TA1307000134</td>\n",
       "      <td>12</td>\n",
       "    </tr>\n",
       "    <tr>\n",
       "      <th>8</th>\n",
       "      <td>KA1504000162</td>\n",
       "      <td>12</td>\n",
       "    </tr>\n",
       "    <tr>\n",
       "      <th>9</th>\n",
       "      <td>TA1308000046</td>\n",
       "      <td>12</td>\n",
       "    </tr>\n",
       "  </tbody>\n",
       "</table>\n",
       "</div>"
      ],
      "text/plain": [
       "                         end_station_id  length\n",
       "0  DIVVY CASSETTE REPAIR MOBILE STATION      36\n",
       "1   Hubbard Bike-checking (LBS-WH-TEST)      35\n",
       "2       2059 Hastings Warehouse Station      31\n",
       "3                OH Charging Stx - Test      22\n",
       "4                  6.21.23 OLD HASTINGS      20\n",
       "5                         chargingstx06      13\n",
       "6                         chargingstx07      13\n",
       "7                          TA1307000134      12\n",
       "8                          KA1504000162      12\n",
       "9                          TA1308000046      12"
      ]
     },
     "execution_count": 16,
     "metadata": {},
     "output_type": "execute_result"
    }
   ],
   "source": [
    "query = \"\"\"\n",
    "SELECT\n",
    "    end_station_id,\n",
    "    LENGTH(end_station_id) AS length\n",
    "FROM\n",
    "    cyclistic_data_3\n",
    "GROUP BY\n",
    "    end_station_id\n",
    "ORDER BY\n",
    "    length DESC\n",
    "LIMIT\n",
    "    10;\n",
    "\"\"\"\n",
    "\n",
    "spark.sql(query).toPandas()"
   ]
  },
  {
   "cell_type": "markdown",
   "id": "b4307386",
   "metadata": {},
   "source": [
    "### `member_casual`\n",
    "\n",
    "We can see that our labels are correct for this column. We expect only two."
   ]
  },
  {
   "cell_type": "code",
   "execution_count": 17,
   "id": "fe6c1a2f",
   "metadata": {},
   "outputs": [
    {
     "name": "stderr",
     "output_type": "stream",
     "text": [
      "                                                                                \r"
     ]
    },
    {
     "data": {
      "text/html": [
       "<div>\n",
       "<style scoped>\n",
       "    .dataframe tbody tr th:only-of-type {\n",
       "        vertical-align: middle;\n",
       "    }\n",
       "\n",
       "    .dataframe tbody tr th {\n",
       "        vertical-align: top;\n",
       "    }\n",
       "\n",
       "    .dataframe thead th {\n",
       "        text-align: right;\n",
       "    }\n",
       "</style>\n",
       "<table border=\"1\" class=\"dataframe\">\n",
       "  <thead>\n",
       "    <tr style=\"text-align: right;\">\n",
       "      <th></th>\n",
       "      <th>member_casual</th>\n",
       "      <th>Rides</th>\n",
       "    </tr>\n",
       "  </thead>\n",
       "  <tbody>\n",
       "    <tr>\n",
       "      <th>0</th>\n",
       "      <td>casual</td>\n",
       "      <td>2059179</td>\n",
       "    </tr>\n",
       "    <tr>\n",
       "      <th>1</th>\n",
       "      <td>member</td>\n",
       "      <td>3660698</td>\n",
       "    </tr>\n",
       "  </tbody>\n",
       "</table>\n",
       "</div>"
      ],
      "text/plain": [
       "  member_casual    Rides\n",
       "0        casual  2059179\n",
       "1        member  3660698"
      ]
     },
     "execution_count": 17,
     "metadata": {},
     "output_type": "execute_result"
    }
   ],
   "source": [
    "query = \"\"\"\n",
    "SELECT\n",
    "    member_casual,\n",
    "    COUNT(ride_id) AS Rides\n",
    "FROM\n",
    "    cyclistic_data\n",
    "GROUP BY\n",
    "    member_casual;\n",
    "\"\"\"\n",
    "\n",
    "spark.sql(query).toPandas()"
   ]
  },
  {
   "cell_type": "markdown",
   "id": "8793a465",
   "metadata": {},
   "source": [
    "Now the data is clean and we can export it.  \n",
    "It is important to note that the unbalanced class problem is still present, but we'll solve it using R."
   ]
  },
  {
   "cell_type": "markdown",
   "id": "0429627e",
   "metadata": {},
   "source": [
    "To export the data, we need to repartition the data to get a single csv file."
   ]
  },
  {
   "cell_type": "code",
   "execution_count": 18,
   "id": "7271ca7e",
   "metadata": {},
   "outputs": [
    {
     "name": "stderr",
     "output_type": "stream",
     "text": [
      "                                                                                \r"
     ]
    }
   ],
   "source": [
    "df3.repartition(1).write.csv(\"Data/cyclistic/2023_cyclistic_tripdata_clean\", header=True)"
   ]
  },
  {
   "cell_type": "code",
   "execution_count": 19,
   "id": "4bab628e",
   "metadata": {},
   "outputs": [],
   "source": [
    "!mv Data/cyclistic/2023_cyclistic_tripdata_clean/*.csv Data/cyclistic/2023_cyclistic_tripdata_clean.csv"
   ]
  },
  {
   "cell_type": "code",
   "execution_count": 20,
   "id": "5c2824bc",
   "metadata": {},
   "outputs": [],
   "source": [
    "!rm -r Data/cyclistic/2023_cyclistic_tripdata_clean/"
   ]
  },
  {
   "cell_type": "code",
   "execution_count": 21,
   "id": "089bfc86",
   "metadata": {},
   "outputs": [
    {
     "name": "stdout",
     "output_type": "stream",
     "text": [
      "202301-divvy-tripdata.csv         202308-divvy-tripdata.csv\r\n",
      "202302-divvy-tripdata.csv         202309-divvy-tripdata.csv\r\n",
      "202303-divvy-tripdata.csv         202310-divvy-tripdata.csv\r\n",
      "202304-divvy-tripdata.csv         202311-divvy-tripdata.csv\r\n",
      "202305-divvy-tripdata.csv         202312-divvy-tripdata.csv\r\n",
      "202306-divvy-tripdata.csv         2023_cyclistic_tripdata.csv\r\n",
      "202307-divvy-tripdata.csv         2023_cyclistic_tripdata_clean.csv\r\n"
     ]
    }
   ],
   "source": [
    "!ls Data/cyclistic/"
   ]
  },
  {
   "cell_type": "code",
   "execution_count": 22,
   "id": "d1b56f1a",
   "metadata": {},
   "outputs": [
    {
     "name": "stderr",
     "output_type": "stream",
     "text": [
      "                                                                                \r"
     ]
    }
   ],
   "source": [
    "df = spark.read.csv(\"Data/cyclistic/2023_cyclistic_tripdata_clean.csv\", header=True, inferSchema=True)\n",
    "df.createOrReplaceTempView(\"cyclistic_data\")"
   ]
  },
  {
   "cell_type": "code",
   "execution_count": 23,
   "id": "6fefa51d",
   "metadata": {},
   "outputs": [
    {
     "data": {
      "text/html": [
       "<div>\n",
       "<style scoped>\n",
       "    .dataframe tbody tr th:only-of-type {\n",
       "        vertical-align: middle;\n",
       "    }\n",
       "\n",
       "    .dataframe tbody tr th {\n",
       "        vertical-align: top;\n",
       "    }\n",
       "\n",
       "    .dataframe thead th {\n",
       "        text-align: right;\n",
       "    }\n",
       "</style>\n",
       "<table border=\"1\" class=\"dataframe\">\n",
       "  <thead>\n",
       "    <tr style=\"text-align: right;\">\n",
       "      <th></th>\n",
       "      <th>Rows</th>\n",
       "    </tr>\n",
       "  </thead>\n",
       "  <tbody>\n",
       "    <tr>\n",
       "      <th>0</th>\n",
       "      <td>4330969</td>\n",
       "    </tr>\n",
       "  </tbody>\n",
       "</table>\n",
       "</div>"
      ],
      "text/plain": [
       "      Rows\n",
       "0  4330969"
      ]
     },
     "execution_count": 23,
     "metadata": {},
     "output_type": "execute_result"
    }
   ],
   "source": [
    "query = \"\"\"\n",
    "SELECT\n",
    "    COUNT(*) AS Rows\n",
    "FROM\n",
    "    cyclistic_data;\n",
    "\"\"\"\n",
    "\n",
    "spark.sql(query).toPandas()"
   ]
  },
  {
   "cell_type": "code",
   "execution_count": 24,
   "id": "e2b79d91",
   "metadata": {},
   "outputs": [],
   "source": [
    "spark.stop()"
   ]
  },
  {
   "cell_type": "code",
   "execution_count": null,
   "id": "ddaebfc3",
   "metadata": {},
   "outputs": [],
   "source": []
  }
 ],
 "metadata": {
  "kernelspec": {
   "display_name": "Python 3 (ipykernel)",
   "language": "python",
   "name": "python3"
  },
  "language_info": {
   "codemirror_mode": {
    "name": "ipython",
    "version": 3
   },
   "file_extension": ".py",
   "mimetype": "text/x-python",
   "name": "python",
   "nbconvert_exporter": "python",
   "pygments_lexer": "ipython3",
   "version": "3.10.0"
  }
 },
 "nbformat": 4,
 "nbformat_minor": 5
}
